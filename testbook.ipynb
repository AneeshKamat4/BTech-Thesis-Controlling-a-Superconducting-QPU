{
 "cells": [
  {
   "cell_type": "code",
   "execution_count": 1,
   "metadata": {},
   "outputs": [],
   "source": [
    "alpha = 'apple'\n",
    "beta = 'bread'\n",
    "gamma = 'grape'\n",
    "\n",
    "def printsnow(alpha, beta, gamma):\n",
    "\tprint(f'alp is {alpha}')\n",
    "\tprint(f'bet is not {gamma}')\n",
    "\tprint(f'but gam is {gamma}, and bet is {beta}')\n",
    "\treturn 5 + 5\n"
   ]
  },
  {
   "cell_type": "code",
   "execution_count": 5,
   "metadata": {},
   "outputs": [
    {
     "data": {
      "text/plain": [
       "{'apple': 5}"
      ]
     },
     "execution_count": 5,
     "metadata": {},
     "output_type": "execute_result"
    }
   ],
   "source": [
    "def printsbye(**kwargs):\n",
    "    for key, val in kwargs.items():\n",
    "        vars()['key'] = val\n",
    "\t\tsoft return eval('key')\n",
    "    # return kwargs\n",
    "    \n",
    "printsbye(apple=5)\n",
    "\t\t"
   ]
  },
  {
   "cell_type": "code",
   "execution_count": null,
   "metadata": {},
   "outputs": [],
   "source": []
  }
 ],
 "metadata": {
  "kernelspec": {
   "display_name": "Python 3",
   "language": "python",
   "name": "python3"
  },
  "language_info": {
   "codemirror_mode": {
    "name": "ipython",
    "version": 3
   },
   "file_extension": ".py",
   "mimetype": "text/x-python",
   "name": "python",
   "nbconvert_exporter": "python",
   "pygments_lexer": "ipython3",
   "version": "3.11.2"
  }
 },
 "nbformat": 4,
 "nbformat_minor": 2
}
